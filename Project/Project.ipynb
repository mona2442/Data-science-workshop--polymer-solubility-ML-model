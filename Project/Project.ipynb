{
 "cells": [
  {
   "cell_type": "markdown",
   "id": "bbc4999a",
   "metadata": {},
   "source": [
    "\n",
    "## prediction label meaning:\n",
    "\n",
    "-  0 - insoluble\n",
    "- 1 - partially soluble\n",
    "- 2 - soluble\n",
    "- 3 - solvent evaporated\n",
    "- -1 - solvent freeze\n",
    "\n",
    "\n",
    "You are expected to implement the following steps in the same order on the dataset, after youu read the excel file using the Pandas package, we already did that for you. (Use the code below: first part is coded here to eliminate all missing values):\n",
    "\n",
    "1. Using the StandardScaler, normalize the data \n",
    "2. Using the Hold-out method: divide the dataset to two sets of data & validation set with test_size=0.3, random_state=42.\n",
    "3. Using the k-fold method: divide the data to training & test set. (k =5)\n",
    "4. Implement the Decision Tree for prediction on training and test set & calculate the R-Squared for each set!\n",
    "5. Report the accuracy on the validation set and how the model is performing using the confusion matrix (label the confusion matrix using the prediction labels showed above:insoluble, etc.)\n",
    "6. Discuss your results, answering following questions: \n",
    "    6.1. What would happen if we changed the test_size from 0.3 to 0.5. how does that affect our result?\n",
    "    6.2. How can you define on confusion matrix results. What does it tell you on the results of the prediction model?\n"
   ]
  },
  {
   "cell_type": "code",
   "execution_count": 1,
   "id": "6d5bf919",
   "metadata": {},
   "outputs": [],
   "source": [
    "#import modules \n",
    "import pandas as pd\n",
    "import numpy as np\n",
    "\n",
    "\n",
    "#import excel sheet \n",
    "df = pd.read_excel('data/Polymer _solvent_solubility.xlsx')\n",
    "\n",
    "#Feature labels\n",
    "column_label = df[df.columns[3:]].columns[:]\n",
    "#print(column_label)\n",
    "\n",
    "#All values \n",
    "values = df[df.columns[3:]].values\n",
    "# print(values.shape)\n",
    "\n",
    "#eliminate any observation with missing values \n",
    "is_missing_value = np.array(df.isna())\n",
    "valid_rows = []\n",
    "for i in range(values.shape[0]):\n",
    "    if not any(is_missing_value[i,:]):\n",
    "        valid_rows.append(i)\n",
    "\n",
    "X = np.array(values[valid_rows,:-1])\n",
    "y = np.array(values[valid_rows,-1])\n",
    "\n"
   ]
  },
  {
   "cell_type": "code",
   "execution_count": null,
   "id": "fe3aa326",
   "metadata": {},
   "outputs": [],
   "source": []
  }
 ],
 "metadata": {
  "kernelspec": {
   "display_name": "Python 3 (ipykernel)",
   "language": "python",
   "name": "python3"
  },
  "language_info": {
   "codemirror_mode": {
    "name": "ipython",
    "version": 3
   },
   "file_extension": ".py",
   "mimetype": "text/x-python",
   "name": "python",
   "nbconvert_exporter": "python",
   "pygments_lexer": "ipython3",
   "version": "3.11.5"
  }
 },
 "nbformat": 4,
 "nbformat_minor": 5
}
