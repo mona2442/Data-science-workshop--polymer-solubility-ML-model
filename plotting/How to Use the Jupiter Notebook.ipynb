{
 "cells": [
  {
   "cell_type": "markdown",
   "id": "1ceefd50",
   "metadata": {},
   "source": [
    "There are different ways to run Python in your computer, using Terminal, etc. here, we use jupyter Notebook to run Python. It works great for our purpose. Either you want to use it through browser or installing/ using Anaconda which is prefered. Anaconda offers the ways to perform Python/R data science and machine learning. Here, we go over some steps so you can get the requirments up & running: "
   ]
  },
  {
   "cell_type": "markdown",
   "id": "c9790970",
   "metadata": {},
   "source": [
    "# Browser: \n",
    "\n",
    "For using the Jupyter Notebook in web browser, you can click on this link [Jupyter Notebook Browser](https://jupyter.org/try)"
   ]
  },
  {
   "cell_type": "markdown",
   "id": "d16f0d0a",
   "metadata": {},
   "source": [
    "# Anaconda: \n",
    "\n"
   ]
  }
 ],
 "metadata": {
  "kernelspec": {
   "display_name": "Python 3",
   "language": "python",
   "name": "python3"
  },
  "language_info": {
   "codemirror_mode": {
    "name": "ipython",
    "version": 3
   },
   "file_extension": ".py",
   "mimetype": "text/x-python",
   "name": "python",
   "nbconvert_exporter": "python",
   "pygments_lexer": "ipython3",
   "version": "3.8.8"
  }
 },
 "nbformat": 4,
 "nbformat_minor": 5
}
